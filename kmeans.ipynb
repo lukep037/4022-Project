{
 "cells": [
  {
   "cell_type": "code",
   "execution_count": 1,
   "id": "respected-individual",
   "metadata": {},
   "outputs": [],
   "source": [
    "import numpy as np \n",
    "import pandas as pd\n",
    "import scipy.stats as stats\n",
    "import matplotlib.pyplot as plt\n",
    "%matplotlib inline\n",
    "import random"
   ]
  },
  {
   "cell_type": "code",
   "execution_count": 2,
   "id": "frequent-partition",
   "metadata": {},
   "outputs": [],
   "source": [
    "dfA = pd.read_csv(\"historical_RAPTOR_by_player.csv\")\n",
    "dfTemp = dfA.query('season == 2020')"
   ]
  },
  {
   "cell_type": "code",
   "execution_count": 3,
   "id": "fleet-surfing",
   "metadata": {},
   "outputs": [
    {
     "data": {
      "text/html": [
       "<div>\n",
       "<style scoped>\n",
       "    .dataframe tbody tr th:only-of-type {\n",
       "        vertical-align: middle;\n",
       "    }\n",
       "\n",
       "    .dataframe tbody tr th {\n",
       "        vertical-align: top;\n",
       "    }\n",
       "\n",
       "    .dataframe thead th {\n",
       "        text-align: right;\n",
       "    }\n",
       "</style>\n",
       "<table border=\"1\" class=\"dataframe\">\n",
       "  <thead>\n",
       "    <tr style=\"text-align: right;\">\n",
       "      <th></th>\n",
       "      <th>player_name</th>\n",
       "      <th>player_id</th>\n",
       "      <th>season</th>\n",
       "      <th>poss</th>\n",
       "      <th>mp</th>\n",
       "      <th>raptor_offense</th>\n",
       "      <th>raptor_defense</th>\n",
       "      <th>raptor_total</th>\n",
       "      <th>war_total</th>\n",
       "      <th>war_reg_season</th>\n",
       "      <th>war_playoffs</th>\n",
       "      <th>predator_offense</th>\n",
       "      <th>predator_defense</th>\n",
       "      <th>predator_total</th>\n",
       "      <th>pace_impact</th>\n",
       "    </tr>\n",
       "  </thead>\n",
       "  <tbody>\n",
       "    <tr>\n",
       "      <th>86</th>\n",
       "      <td>Jaylen Adams</td>\n",
       "      <td>adamsja01</td>\n",
       "      <td>2020</td>\n",
       "      <td>43</td>\n",
       "      <td>21</td>\n",
       "      <td>6.207690</td>\n",
       "      <td>7.656298</td>\n",
       "      <td>13.863988</td>\n",
       "      <td>0.180289</td>\n",
       "      <td>0.000000</td>\n",
       "      <td>0.180289</td>\n",
       "      <td>3.989698</td>\n",
       "      <td>3.511923</td>\n",
       "      <td>7.501621</td>\n",
       "      <td>-1.784967</td>\n",
       "    </tr>\n",
       "    <tr>\n",
       "      <th>106</th>\n",
       "      <td>Steven Adams</td>\n",
       "      <td>adamsst01</td>\n",
       "      <td>2020</td>\n",
       "      <td>3964</td>\n",
       "      <td>1890</td>\n",
       "      <td>0.315797</td>\n",
       "      <td>1.657408</td>\n",
       "      <td>1.973205</td>\n",
       "      <td>4.542775</td>\n",
       "      <td>4.329823</td>\n",
       "      <td>0.212952</td>\n",
       "      <td>-0.458575</td>\n",
       "      <td>1.632839</td>\n",
       "      <td>1.174265</td>\n",
       "      <td>-0.445224</td>\n",
       "    </tr>\n",
       "    <tr>\n",
       "      <th>115</th>\n",
       "      <td>Bam Adebayo</td>\n",
       "      <td>adebaba01</td>\n",
       "      <td>2020</td>\n",
       "      <td>6336</td>\n",
       "      <td>3104</td>\n",
       "      <td>-0.103949</td>\n",
       "      <td>2.226652</td>\n",
       "      <td>2.122704</td>\n",
       "      <td>7.755916</td>\n",
       "      <td>5.311195</td>\n",
       "      <td>2.444721</td>\n",
       "      <td>0.722645</td>\n",
       "      <td>1.480391</td>\n",
       "      <td>2.203036</td>\n",
       "      <td>-0.649095</td>\n",
       "    </tr>\n",
       "    <tr>\n",
       "      <th>205</th>\n",
       "      <td>LaMarcus Aldridge</td>\n",
       "      <td>aldrila01</td>\n",
       "      <td>2020</td>\n",
       "      <td>3648</td>\n",
       "      <td>1754</td>\n",
       "      <td>-0.660440</td>\n",
       "      <td>0.777019</td>\n",
       "      <td>0.116579</td>\n",
       "      <td>2.530917</td>\n",
       "      <td>2.530917</td>\n",
       "      <td>0.000000</td>\n",
       "      <td>-0.711668</td>\n",
       "      <td>1.229885</td>\n",
       "      <td>0.518216</td>\n",
       "      <td>-1.367530</td>\n",
       "    </tr>\n",
       "    <tr>\n",
       "      <th>221</th>\n",
       "      <td>Kyle Alexander</td>\n",
       "      <td>alexaky01</td>\n",
       "      <td>2020</td>\n",
       "      <td>31</td>\n",
       "      <td>13</td>\n",
       "      <td>-6.054527</td>\n",
       "      <td>-3.622453</td>\n",
       "      <td>-9.676980</td>\n",
       "      <td>-0.047025</td>\n",
       "      <td>-0.047025</td>\n",
       "      <td>0.000000</td>\n",
       "      <td>-2.723092</td>\n",
       "      <td>-4.931522</td>\n",
       "      <td>-7.654614</td>\n",
       "      <td>2.402348</td>\n",
       "    </tr>\n",
       "  </tbody>\n",
       "</table>\n",
       "</div>"
      ],
      "text/plain": [
       "           player_name  player_id  season  poss    mp  raptor_offense  \\\n",
       "86        Jaylen Adams  adamsja01    2020    43    21        6.207690   \n",
       "106       Steven Adams  adamsst01    2020  3964  1890        0.315797   \n",
       "115        Bam Adebayo  adebaba01    2020  6336  3104       -0.103949   \n",
       "205  LaMarcus Aldridge  aldrila01    2020  3648  1754       -0.660440   \n",
       "221     Kyle Alexander  alexaky01    2020    31    13       -6.054527   \n",
       "\n",
       "     raptor_defense  raptor_total  war_total  war_reg_season  war_playoffs  \\\n",
       "86         7.656298     13.863988   0.180289        0.000000      0.180289   \n",
       "106        1.657408      1.973205   4.542775        4.329823      0.212952   \n",
       "115        2.226652      2.122704   7.755916        5.311195      2.444721   \n",
       "205        0.777019      0.116579   2.530917        2.530917      0.000000   \n",
       "221       -3.622453     -9.676980  -0.047025       -0.047025      0.000000   \n",
       "\n",
       "     predator_offense  predator_defense  predator_total  pace_impact  \n",
       "86           3.989698          3.511923        7.501621    -1.784967  \n",
       "106         -0.458575          1.632839        1.174265    -0.445224  \n",
       "115          0.722645          1.480391        2.203036    -0.649095  \n",
       "205         -0.711668          1.229885        0.518216    -1.367530  \n",
       "221         -2.723092         -4.931522       -7.654614     2.402348  "
      ]
     },
     "execution_count": 3,
     "metadata": {},
     "output_type": "execute_result"
    }
   ],
   "source": [
    "dfTemp.head()"
   ]
  },
  {
   "cell_type": "code",
   "execution_count": 4,
   "id": "streaming-saturday",
   "metadata": {},
   "outputs": [],
   "source": [
    "X = np.array(dfTemp[['war_reg_season','war_playoffs']])"
   ]
  },
  {
   "cell_type": "code",
   "execution_count": 5,
   "id": "atlantic-association",
   "metadata": {},
   "outputs": [],
   "source": [
    "def dist(x1, x2):\n",
    "    return np.sqrt(np.sum((x1-x2)**2))"
   ]
  },
  {
   "cell_type": "code",
   "execution_count": 15,
   "id": "after-subcommittee",
   "metadata": {},
   "outputs": [],
   "source": [
    "def k_func(col1, col2,numclusters):\n",
    "    X = np.array(dfTemp[[col1,col2]])\n",
    "    #Initialize\n",
    "    K = numclusters\n",
    "    #however...\n",
    "    x1_coords = [x[0] for x in X]\n",
    "    centroids = np.empty([K,2])\n",
    "    for i in range(K):\n",
    "        centroids[i] = X[random.randint(0,len(X))]\n",
    "    # centroids = np.random.choice(X[0], K, replace=False)\n",
    "    dists = [0]*K\n",
    "    clusters = np.array([-1]*len(X))\n",
    "\n",
    "    for _ in range(100): #100 steps is fine; or a tolerance/change check.\n",
    "        #update classifications\n",
    "        for j in range(len(X)):\n",
    "            dists = [dist(X[j], cent) for cent in centroids]\n",
    "            assignment = dists.index(min(dists))\n",
    "            clusters[j] = assignment\n",
    "        #update centroids\n",
    "        for j in range(K):\n",
    "            centroids[j]=[np.sum(X[clusters==j,0])/len(X[clusters==j,0]),np.sum(X[clusters==j,1])/len(X[clusters==j,1])]\n",
    "    #initial cluster plot\n",
    "    fig, ax = plt.subplots(1,1, figsize=(5,5))\n",
    "    plt.scatter([x[0] for x in X], [x[1] for x in X], c=clusters)\n",
    "    plt.scatter([x[0] for x in centroids], [x[1] for x in centroids], c='red', marker='+')\n",
    "    plt.axis([-10, 30, -5, 10])\n",
    "    plt.xlabel(\"war_reg_season - 2020\")\n",
    "    plt.ylabel(\"war_playoffs - 2020\")\n",
    "    col1best = dfTemp[[col1]].max()\n",
    "    col2best = dfTemp[[col1]].max()\n",
    "    plt.text(16.7056,3.13679,'James Harden')\n",
    "    plt.text(9.30393,6.18924, 'Anthony Davis')\n",
    "    plt.show()\n",
    "    ###END OPTIONAL"
   ]
  },
  {
   "cell_type": "code",
   "execution_count": 16,
   "id": "peaceful-taylor",
   "metadata": {},
   "outputs": [
    {
     "name": "stdout",
     "output_type": "stream",
     "text": [
      "war_reg_season    16.705593\n",
      "dtype: float64\n"
     ]
    },
    {
     "data": {
      "image/png": "[encoded data removed]",
      "text/plain": [
       "<Figure size 360x360 with 1 Axes>"
      ]
     },
     "metadata": {
      "needs_background": "light"
     },
     "output_type": "display_data"
    }
   ],
   "source": [
    "k_func(\"war_reg_season\",\"war_playoffs\",5)"
   ]
  },
  {
   "cell_type": "code",
   "execution_count": 9,
   "id": "driven-creation",
   "metadata": {},
   "outputs": [],
   "source": [
    "max_war_reg = dfTemp['war_reg_season'].idxmax()\n",
    "max_war_play = dfTemp['war_playoffs'].idxmax()"
   ]
  },
  {
   "cell_type": "code",
   "execution_count": 10,
   "id": "military-montana",
   "metadata": {},
   "outputs": [
    {
     "data": {
      "text/plain": [
       "player_name         James Harden\n",
       "player_id              hardeja01\n",
       "season                      2020\n",
       "poss                        6253\n",
       "mp                          2931\n",
       "raptor_offense           8.48846\n",
       "raptor_defense           1.97839\n",
       "raptor_total             10.4668\n",
       "war_total                19.8424\n",
       "war_reg_season           16.7056\n",
       "war_playoffs             3.13679\n",
       "predator_offense         8.04281\n",
       "predator_defense         2.72868\n",
       "predator_total           10.7715\n",
       "pace_impact           -0.0945816\n",
       "Name: 6627, dtype: object"
      ]
     },
     "execution_count": 10,
     "metadata": {},
     "output_type": "execute_result"
    }
   ],
   "source": [
    "dfA.iloc[max_war_reg]"
   ]
  },
  {
   "cell_type": "code",
   "execution_count": 11,
   "id": "herbal-briefs",
   "metadata": {},
   "outputs": [
    {
     "data": {
      "text/plain": [
       "player_name         Anthony Davis\n",
       "player_id               davisan02\n",
       "season                       2020\n",
       "poss                         6113\n",
       "mp                           2900\n",
       "raptor_offense             3.0833\n",
       "raptor_defense             4.3473\n",
       "raptor_total               7.4306\n",
       "war_total                 15.4932\n",
       "war_reg_season            9.30393\n",
       "war_playoffs              6.18924\n",
       "predator_offense          2.78465\n",
       "predator_defense          4.66116\n",
       "predator_total            7.44581\n",
       "pace_impact                 1.126\n",
       "Name: 3860, dtype: object"
      ]
     },
     "execution_count": 11,
     "metadata": {},
     "output_type": "execute_result"
    }
   ],
   "source": [
    "dfA.iloc[max_war_play]"
   ]
  },
  {
   "cell_type": "code",
   "execution_count": 12,
   "id": "attractive-electron",
   "metadata": {},
   "outputs": [
    {
     "ename": "NameError",
     "evalue": "name 'kmeans' is not defined",
     "output_type": "error",
     "traceback": [
      "\u001b[0;31m---------------------------------------------------------------------------\u001b[0m",
      "\u001b[0;31mNameError\u001b[0m                                 Traceback (most recent call last)",
      "\u001b[0;32m<ipython-input-12-baece4c8ac10>\u001b[0m in \u001b[0;36m<module>\u001b[0;34m\u001b[0m\n\u001b[1;32m      1\u001b[0m \u001b[0mplt\u001b[0m\u001b[0;34m.\u001b[0m\u001b[0mfigure\u001b[0m\u001b[0;34m(\u001b[0m\u001b[0mfigsize\u001b[0m\u001b[0;34m=\u001b[0m\u001b[0;34m(\u001b[0m\u001b[0;36m12\u001b[0m\u001b[0;34m,\u001b[0m\u001b[0;36m12\u001b[0m\u001b[0;34m)\u001b[0m\u001b[0;34m)\u001b[0m\u001b[0;34m\u001b[0m\u001b[0;34m\u001b[0m\u001b[0m\n\u001b[0;32m----> 2\u001b[0;31m \u001b[0mplt\u001b[0m\u001b[0;34m.\u001b[0m\u001b[0mscatter\u001b[0m\u001b[0;34m(\u001b[0m\u001b[0mX\u001b[0m\u001b[0;34m[\u001b[0m\u001b[0;34m:\u001b[0m\u001b[0;34m,\u001b[0m \u001b[0;36m0\u001b[0m\u001b[0;34m]\u001b[0m\u001b[0;34m,\u001b[0m \u001b[0mX\u001b[0m\u001b[0;34m[\u001b[0m\u001b[0;34m:\u001b[0m\u001b[0;34m,\u001b[0m \u001b[0;36m1\u001b[0m\u001b[0;34m]\u001b[0m\u001b[0;34m,\u001b[0m \u001b[0mc\u001b[0m\u001b[0;34m=\u001b[0m\u001b[0mkmeans\u001b[0m\u001b[0;34m)\u001b[0m\u001b[0;34m\u001b[0m\u001b[0;34m\u001b[0m\u001b[0m\n\u001b[0m",
      "\u001b[0;31mNameError\u001b[0m: name 'kmeans' is not defined"
     ]
    },
    {
     "data": {
      "text/plain": [
       "<Figure size 864x864 with 0 Axes>"
      ]
     },
     "metadata": {},
     "output_type": "display_data"
    }
   ],
   "source": [
    "plt.figure(figsize=(12,12))\n",
    "plt.scatter(X[:, 0], X[:, 1], c=kmeans)"
   ]
  },
  {
   "cell_type": "code",
   "execution_count": null,
   "id": "missing-macedonia",
   "metadata": {
    "scrolled": true
   },
   "outputs": [],
   "source": [
    "dfA[['player_name','war_total']]"
   ]
  },
  {
   "cell_type": "code",
   "execution_count": null,
   "id": "young-checklist",
   "metadata": {
    "scrolled": true
   },
   "outputs": [],
   "source": [
    "dfA.nlargest(15, 'war_total')"
   ]
  },
  {
   "cell_type": "code",
   "execution_count": null,
   "id": "sustainable-basket",
   "metadata": {},
   "outputs": [],
   "source": [
    "dfA.nlargest(15, 'war_reg_season')"
   ]
  },
  {
   "cell_type": "code",
   "execution_count": null,
   "id": "express-start",
   "metadata": {},
   "outputs": [],
   "source": [
    "dfA.nlargest(15, 'war_playoffs')"
   ]
  },
  {
   "cell_type": "code",
   "execution_count": null,
   "id": "norman-vulnerability",
   "metadata": {},
   "outputs": [],
   "source": [
    "dfA.nlargest(15, 'raptor_offense')"
   ]
  },
  {
   "cell_type": "code",
   "execution_count": null,
   "id": "hollow-guard",
   "metadata": {},
   "outputs": [],
   "source": [
    "dfA.nlargest(15, 'raptor_defense')"
   ]
  },
  {
   "cell_type": "code",
   "execution_count": null,
   "id": "efficient-hampshire",
   "metadata": {},
   "outputs": [],
   "source": [
    "dfA.nlargest(15, 'war_total')"
   ]
  },
  {
   "cell_type": "code",
   "execution_count": null,
   "id": "charitable-collaboration",
   "metadata": {},
   "outputs": [],
   "source": [
    "max_index = dfA['season'].idxmin()"
   ]
  },
  {
   "cell_type": "code",
   "execution_count": null,
   "id": "expressed-airplane",
   "metadata": {},
   "outputs": [],
   "source": [
    "dfA.iloc[max_index]"
   ]
  },
  {
   "cell_type": "code",
   "execution_count": null,
   "id": "future-rolling",
   "metadata": {},
   "outputs": [],
   "source": []
  }
 ],
 "metadata": {
  "kernelspec": {
   "display_name": "Python 3",
   "language": "python",
   "name": "python3"
  },
  "language_info": {
   "codemirror_mode": {
    "name": "ipython",
    "version": 3
   },
   "file_extension": ".py",
   "mimetype": "text/x-python",
   "name": "python",
   "nbconvert_exporter": "python",
   "pygments_lexer": "ipython3",
   "version": "3.8.5"
  }
 },
 "nbformat": 4,
 "nbformat_minor": 5
}
